{
  "nbformat": 4,
  "nbformat_minor": 0,
  "metadata": {
    "colab": {
      "provenance": []
    },
    "kernelspec": {
      "name": "python3",
      "display_name": "Python 3"
    },
    "language_info": {
      "name": "python"
    }
  },
  "cells": [
    {
      "cell_type": "code",
      "execution_count": null,
      "metadata": {
        "id": "-Q14gvOMnmVX"
      },
      "outputs": [],
      "source": []
    },
    {
      "cell_type": "markdown",
      "source": [],
      "metadata": {
        "id": "Z1A0P_ZH8M-X"
      }
    },
    {
      "cell_type": "markdown",
      "source": [
        "#Assignment 1\n",
        "1.Explain the basic structure of an HTML page. Why is it important to follow\n",
        "this structure?\n",
        "      \n",
        "      \n"
      ],
      "metadata": {
        "id": "rkFJAiuCo7eA"
      }
    },
    {
      "cell_type": "markdown",
      "source": [
        "Ans:"
      ],
      "metadata": {
        "id": "FP4svbq0AkZW"
      }
    },
    {
      "cell_type": "code",
      "source": [
        "'''<!doctype HTML>\n",
        "<html>\n",
        "<head>\n",
        "<title>My webpage</title>\n",
        "<meta charset=\"UTF-8\">\n",
        "</head>\n",
        "<body>\n",
        "<h1>welcome to website</h1>\n",
        "<p>This is the paragraph </p>\n",
        "</body>\n",
        "</html>'''\n"
      ],
      "metadata": {
        "id": "Zh4vsKchqCiJ"
      },
      "execution_count": null,
      "outputs": []
    },
    {
      "cell_type": "markdown",
      "source": [],
      "metadata": {
        "id": "TPN7zgo_qYd5"
      }
    },
    {
      "cell_type": "code",
      "source": [],
      "metadata": {
        "id": "ggTwDFvKpVh_"
      },
      "execution_count": null,
      "outputs": []
    },
    {
      "cell_type": "markdown",
      "source": [
        "*doctype : this tells the browser that it belongs to which type of document like HTML 5 or 4.\n",
        "\n",
        "*html: it is the basic tag of html that wraps the whole html code.\n",
        "\n",
        "*head:it contains the meta info and it is not visible to clients.Basically it contains styling ,title,encoding etc.\n",
        "\n",
        "*title: sets the title of the webpage that is visble on the webpage.\n",
        "\n",
        "*meta charset:sets the character encoding.\n",
        "\n",
        "*body :contains the visble content of the document.\n",
        "It is important because:\n",
        "*Browsers read HTML from top to bottom.A correct\n",
        "structure ensures the page is rendered as intended.\n",
        "\n",
        "*Proper structure helps search engines index your side better improve visibility.\n",
        "\n",
        "*A clean organized structure makes it easier to debug ,read and edit the code later.\n",
        "\n",
        "*Following the standard structure would help the different browsers to access the code.\n",
        "\n",
        "2.You are building a small personal profile page. Which HTML tags will you\n",
        "use to highlight your name as a heading, describe yourself in a paragraph, and\n",
        "emphasize a key skill?\n",
        "\n",
        "->*for name i will use h2 tag because the name should not look very big.\n",
        "\n",
        "*TO describe about myself i will use p tag because there will be lot of stuff to write about myself.So p tag would be great.\n",
        "\n",
        "*To emphasize a skill i would go with strong tag or b tag .beacuse these tags would display in bold that will be appealing whoever sees the profile.\n",
        "\n",
        "\n",
        "\n",
        "\n"
      ],
      "metadata": {
        "id": "4hPzgDZbq5Az"
      }
    },
    {
      "cell_type": "markdown",
      "source": [
        "2.You’re building a small personal profile page. Which HTML tags will you\n",
        "use to highlight your name as a heading, describe yourself in a paragraph, and\n",
        "emphasize a key skill?\n",
        "\n"
      ],
      "metadata": {
        "id": "hcCCyr2u8QWa"
      }
    },
    {
      "cell_type": "code",
      "source": [
        "'''Ans : <!DOCTYPE html>\n",
        "<html>\n",
        "<head>\n",
        "  <title>My Profile</title>\n",
        "</head>\n",
        "<body>\n",
        "\n",
        "  <h1>Jane Doe</h1>\n",
        "\n",
        "  <p>Hello! I'm a front-end developer with a passion for creating beautiful and responsive web interfaces.</p>\n",
        "\n",
        "  <p>One of my key skills is <strong>JavaScript</strong>, which I use daily to build dynamic and interactive applications.</p>\n",
        "\n",
        "</body>\n",
        "</html>'''\n",
        "'''Tag summary:\n",
        "*<h1>: Main heading (your name).\n",
        "\n",
        "*<p>: Paragraph text (description).\n",
        "\n",
        "*<strong>: Emphasizes importance (key skill); <em> would emphasize with italics for subtle emphasis.'''\n",
        "\n"
      ],
      "metadata": {
        "id": "KGdLXj-L9DqW"
      },
      "execution_count": null,
      "outputs": []
    },
    {
      "cell_type": "markdown",
      "source": [
        "3.Look at the code below. Can you find and fix the mistake?\n"
      ],
      "metadata": {
        "id": "8H_jTO1o9S8M"
      }
    },
    {
      "cell_type": "markdown",
      "source": [
        "\n"
      ],
      "metadata": {
        "id": "G-eTJeOG97SH"
      }
    },
    {
      "cell_type": "code",
      "source": [
        "\n",
        "'''<!-- This is an HTML comment\n",
        "<h1>Welcome to my website</h1>?\n",
        "Ans : The html comment in this code has not compelted properly.\n",
        "corrected code:\n",
        "\n",
        "<!-- This is an HTML comment -->\n",
        "<h1>Welcome to my website</h1>'''"
      ],
      "metadata": {
        "id": "CWbSlyBD-D6J"
      },
      "execution_count": null,
      "outputs": []
    },
    {
      "cell_type": "markdown",
      "source": [
        "4.You’re creating a form that asks the user to enter their name, select their\n",
        "country from a list, and click a button to submit. Write the HTML code for this."
      ],
      "metadata": {
        "id": "nujviWI0-nk5"
      }
    },
    {
      "cell_type": "markdown",
      "source": [
        "Ans:"
      ],
      "metadata": {
        "id": "4y0i2ESU-0QJ"
      }
    },
    {
      "cell_type": "code",
      "source": [
        "'''<!DOCTYPE html>\n",
        "<html>\n",
        "<head>\n",
        "  <title>User Information Form</title>\n",
        "</head>\n",
        "<body>\n",
        "\n",
        "  <form action=\"/submit\" method=\"post\">\n",
        "    <label for=\"name\">Name:</label><br>\n",
        "    <input type=\"text\" id=\"name\" name=\"name\" required><br><br>\n",
        "\n",
        "    <label for=\"country\">Country:</label><br>\n",
        "    <select id=\"country\" name=\"country\" required>\n",
        "      <option value=\"\">--Select your country--</option>\n",
        "      <option value=\"usa\">United States</option>\n",
        "      <option value=\"canada\">Canada</option>\n",
        "      <option value=\"uk\">United Kingdom</option>\n",
        "      <option value=\"australia\">Australia</option>\n",
        "      <!-- Add more countries as needed -->\n",
        "    </select><br><br>\n",
        "\n",
        "    <button type=\"submit\">Submit</button>\n",
        "  </form>\n",
        "\n",
        "</body>\n",
        "</html>'''\n"
      ],
      "metadata": {
        "id": "lkFkBHDD-164"
      },
      "execution_count": null,
      "outputs": []
    },
    {
      "cell_type": "markdown",
      "source": [
        "5.Write short HTML code to show your favorite fruits in a bulleted list and\n",
        "your top 3 programming languages in a numbered list."
      ],
      "metadata": {
        "id": "0Ser2tFg-4Ct"
      }
    },
    {
      "cell_type": "markdown",
      "source": [
        "Ans:"
      ],
      "metadata": {
        "id": "UqDtzFJ0_YYS"
      }
    },
    {
      "cell_type": "code",
      "source": [
        "'''<!DOCTYPE html>\n",
        "<html>\n",
        "<head>\n",
        "  <title>Favorites</title>\n",
        "</head>\n",
        "<body>\n",
        "\n",
        "  <h2>My Favorite Fruits</h2>\n",
        "  <ul>\n",
        "    <li>Mango</li>\n",
        "    <li>Strawberry</li>\n",
        "    <li>Banana</li>\n",
        "  </ul>\n",
        "\n",
        "  <h2>Top 3 Programming Languages</h2>\n",
        "  <ol>\n",
        "    <li>JavaScript</li>\n",
        "    <li>Python</li>\n",
        "    <li>TypeScript</li>\n",
        "  </ol>\n",
        "\n",
        "</body>\n",
        "</html>'''\n"
      ],
      "metadata": {
        "id": "x_xtRZFi_aX2"
      },
      "execution_count": null,
      "outputs": []
    },
    {
      "cell_type": "markdown",
      "source": [
        "6.Ravi wants to leave a note in his HTML file so that only other developers\n",
        "can see it, not the users on the website. How should he do this? Why are such notes\n",
        "useful?"
      ],
      "metadata": {
        "id": "fsS5PMTm_hr_"
      }
    },
    {
      "cell_type": "markdown",
      "source": [
        "Ans:"
      ],
      "metadata": {
        "id": "q0WbWXjD_4pw"
      }
    },
    {
      "cell_type": "code",
      "source": [
        "'''<!-- TODO: Add a contact form below this section -->\n",
        "<h2>About Us</h2>\n",
        "<p>Welcome to our website!</p>'''\n",
        "  '''HTML Comments Uses:\n",
        "*Communication: Help developers understand the code or collaborate on team projects.\n",
        "\n",
        "*Reminders: Leave TODOs or notes for future changes or improvements.\n",
        "\n",
        "*Code Explanation: Clarify why something was done a certain way.\n",
        "\n",
        "*Temporary Code Disabling: Comment out code without deleting it.'''"
      ],
      "metadata": {
        "id": "FBEDzBKF_6q1"
      },
      "execution_count": null,
      "outputs": []
    },
    {
      "cell_type": "markdown",
      "source": [
        "7.Here’s a form snippet. Can you spot the error and rewrite the correct\n",
        "version?\n",
        "\n"
      ],
      "metadata": {
        "id": "BF4b9W89AKjw"
      }
    },
    {
      "cell_type": "code",
      "source": [
        "'''<form>\n",
        " <input name=\"email\">\n",
        " <select>\n",
        " <option>India</option>\n",
        " </select>\n",
        " <button>Send</buton>\n",
        "</form>'''"
      ],
      "metadata": {
        "id": "H8XLDuzNASuz"
      },
      "execution_count": null,
      "outputs": []
    },
    {
      "cell_type": "markdown",
      "source": [
        "Ans:"
      ],
      "metadata": {
        "id": "apxfmjPtAT1K"
      }
    },
    {
      "cell_type": "code",
      "source": [],
      "metadata": {
        "id": "D3fa4ZJYAVMz"
      },
      "execution_count": null,
      "outputs": []
    },
    {
      "cell_type": "code",
      "source": [
        "'''<form>\n",
        "  <input type=\"email\" name=\"email\" required>\n",
        "\n",
        "  <select name=\"country\">\n",
        "    <option value=\"india\">India</option>\n",
        "  </select>\n",
        "\n",
        "  <button type=\"submit\">Send</button>\n",
        "</form>'''\n"
      ],
      "metadata": {
        "id": "SWDlTd4kAVQF"
      },
      "execution_count": null,
      "outputs": []
    },
    {
      "cell_type": "code",
      "source": [],
      "metadata": {
        "id": "18k4rE7C-rPc"
      },
      "execution_count": null,
      "outputs": []
    },
    {
      "cell_type": "code",
      "source": [],
      "metadata": {
        "id": "JxjKcvN4-BSr"
      },
      "execution_count": null,
      "outputs": []
    },
    {
      "cell_type": "code",
      "source": [],
      "metadata": {
        "id": "ej4MpXM2907h"
      },
      "execution_count": null,
      "outputs": []
    },
    {
      "cell_type": "code",
      "source": [],
      "metadata": {
        "id": "i3LoAZGq9w5r"
      },
      "execution_count": null,
      "outputs": []
    }
  ]
}